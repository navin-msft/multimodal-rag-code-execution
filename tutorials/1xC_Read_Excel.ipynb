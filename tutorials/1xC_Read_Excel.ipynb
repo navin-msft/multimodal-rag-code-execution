{
 "cells": [
  {
   "cell_type": "markdown",
   "metadata": {},
   "source": [
    "# Read Excel Documents\n",
    "\n",
    "Read MS Excel Documents with Python and the `openpyxl` library, and extract tables. The Excel was created with merged cells to make it a little bit more complex to process."
   ]
  },
  {
   "cell_type": "markdown",
   "metadata": {},
   "source": [
    "### Install the Required Libraries"
   ]
  },
  {
   "cell_type": "code",
   "execution_count": null,
   "metadata": {},
   "outputs": [],
   "source": [
    "%pip install openpyxl pandas\n"
   ]
  },
  {
   "cell_type": "markdown",
   "metadata": {},
   "source": [
    "### Python Imports"
   ]
  },
  {
   "cell_type": "code",
   "execution_count": null,
   "metadata": {},
   "outputs": [],
   "source": [
    "import sys\n",
    "sys.path.append('..\\\\code')\n",
    "\n",
    "import os\n",
    "from dotenv import load_dotenv\n",
    "load_dotenv()\n",
    "\n",
    "from docx import Document\n",
    "import pandas as pd\n",
    "from docx.shared import Inches\n",
    "from docx.image.image import Image\n",
    "\n",
    "from IPython.display import display, Markdown, HTML\n",
    "from PIL import Image\n",
    "from doc_utils import *\n",
    "from utils.bcolors import bcolors as bc  \n",
    "\n",
    "\n",
    "def show_img(img_path, width = None):\n",
    "    if width is not None:\n",
    "        display(HTML(f'<img src=\"{img_path}\" width={width}>'))\n",
    "    else:\n",
    "        display(Image.open(img_path))"
   ]
  },
  {
   "cell_type": "markdown",
   "metadata": {},
   "source": [
    "### Make sure we have the OpenAI Models information\n",
    "\n",
    "We will need the GPT-4-Turbo and GPT-4-Vision models for this notebook.\n",
    "\n",
    "When running the below cell, the values should reflect the OpenAI reource you have created in "
   ]
  },
  {
   "cell_type": "code",
   "execution_count": null,
   "metadata": {},
   "outputs": [],
   "source": [
    "model_info = {\n",
    "        'AZURE_OPENAI_RESOURCE': os.environ.get('AZURE_OPENAI_RESOURCE'),\n",
    "        'AZURE_OPENAI_KEY': os.environ.get('AZURE_OPENAI_KEY'),\n",
    "        'AZURE_OPENAI_MODEL_VISION': os.environ.get('AZURE_OPENAI_MODEL_VISION'),\n",
    "        'AZURE_OPENAI_MODEL': os.environ.get('AZURE_OPENAI_MODEL'),\n",
    "}\n",
    "\n",
    "model_info"
   ]
  },
  {
   "cell_type": "code",
   "execution_count": null,
   "metadata": {},
   "outputs": [],
   "source": []
  },
  {
   "cell_type": "markdown",
   "metadata": {},
   "source": [
    "### Code Definitions\n",
    "\n",
    "Defining the function that will read in the docx file and return the text, images and tables as a list of strings, list of images and list of pandas dataframes respectively."
   ]
  },
  {
   "cell_type": "code",
   "execution_count": 23,
   "metadata": {},
   "outputs": [],
   "source": [
    "\n",
    "def get_excel_sheet_names(file_path):\n",
    "    \"\"\"\n",
    "    Returns a list of sheet names from the specified Excel file.\n",
    "\n",
    "    :param file_path: Path to the Excel file\n",
    "    :return: List of sheet names\n",
    "    \"\"\"\n",
    "    # Load the Excel file\n",
    "    xls = pd.ExcelFile(file_path, engine='openpyxl')\n",
    "\n",
    "    # Get the list of sheet names\n",
    "    sheet_names = xls.sheet_names\n",
    "\n",
    "    return sheet_names\n",
    "\n",
    "\n",
    "def read_excel_to_dataframes(file_path):\n",
    "    \"\"\"\n",
    "    Reads an Excel file and returns a dictionary of DataFrames.\n",
    "    Each key in the dictionary corresponds to a sheet name,\n",
    "    and each value is a DataFrame containing the data from that sheet.\n",
    "\n",
    "    :param file_path: Path to the Excel file\n",
    "    :return: Dictionary of DataFrames\n",
    "    \"\"\"\n",
    "    # Load the Excel file\n",
    "    xls = pd.ExcelFile(file_path, engine='openpyxl')\n",
    "\n",
    "    # Dictionary to hold DataFrames\n",
    "    dfs = {}\n",
    "\n",
    "    # Read each sheet into a DataFrame\n",
    "    for sheet_name in xls.sheet_names:\n",
    "        dfs[sheet_name] = pd.read_excel(xls, sheet_name, header=None)\n",
    "        # dfs[sheet_name] = dfs[sheet_name].ffill(axis=1)\n",
    "        # dfs[sheet_name] = dfs[sheet_name].ffill(axis=0)\n",
    "\n",
    "    return dfs\n"
   ]
  },
  {
   "cell_type": "markdown",
   "metadata": {},
   "source": [
    "### Read Excel\n",
    "\n",
    "Read the excel and print the dataframes out."
   ]
  },
  {
   "cell_type": "code",
   "execution_count": null,
   "metadata": {},
   "outputs": [],
   "source": [
    "# Usage\n",
    "file_path = 'sample_data/hdgdemo/GladiusInvestorSample.xlsx'  \n",
    "sheetname = get_excel_sheet_names(file_path)\n",
    "print(\"sheets in file:\", sheetname)\n",
    "dataframes = read_excel_to_dataframes(file_path)\n",
    "\n",
    "for sheet, df in dataframes.items():\n",
    "    display(df)\n"
   ]
  },
  {
   "cell_type": "markdown",
   "metadata": {},
   "source": [
    "### Print the Tables as Markdown"
   ]
  },
  {
   "cell_type": "code",
   "execution_count": null,
   "metadata": {},
   "outputs": [],
   "source": [
    "for sheet, df in dataframes.items():\n",
    "    display(Markdown(df.to_markdown()))\n"
   ]
  },
  {
   "cell_type": "markdown",
   "metadata": {},
   "source": [
    "### Query the Table\n",
    "\n",
    "Local RAG demo with the table extracted from particular excel sheet."
   ]
  },
  {
   "cell_type": "code",
   "execution_count": null,
   "metadata": {},
   "outputs": [],
   "source": [
    "from utils.openai_utils import ask_LLM\n",
    "\n",
    "\n",
    "prompt = \"\"\"\n",
    "You are Investment Advisor trying to extract information form the table. Please review the following table of investment data. The table includes various fields such as investment type, amount, date, and performance metrics. As you review the data, consider the following questions:\n",
    "\n",
    "Investment Type: Are all the investment types correctly categorized? Are there any discrepancies or inconsistencies?\n",
    "Investment Amount: Are the amounts accurately recorded? Do they align with the expected values?\n",
    "Date: Are the dates of the investments correctly noted? Are there any missing or incorrect dates?\n",
    "Performance Metrics: Are the performance metrics (e.g., ROI, growth rate) accurately calculated and recorded? Are there any anomalies or outliers?\n",
    "Overall Data Quality: Is the data complete and accurate? Are there any missing fields or errors that need to be addressed?\n",
    "\n",
    "## START OF TABLE\n",
    "{markdown}\n",
    "## END OF TABLE\n",
    "\n",
    "{query}\n",
    "\n",
    "\"\"\"\n",
    "\n",
    "def query_table(query,sheetname):\n",
    "    p = prompt.format(markdown = dataframes[sheetname], query = query)\n",
    "    output = ask_LLM(p, model_info=model_info)\n",
    "    print(output)\n",
    "\n",
    "querysheet = 'Gladius'\n",
    "query_table('provide the investors details?',querysheet)"
   ]
  },
  {
   "cell_type": "code",
   "execution_count": null,
   "metadata": {},
   "outputs": [],
   "source": [
    "from utils.openai_utils import ask_LLM\n",
    "\n",
    "\n",
    "prompt = \"\"\"\n",
    "You are Investment Advisor trying to extract information form the table. Please review the following table of investment data. The table includes various fields such as investment type, amount, date, and performance metrics. As you review the data, consider the following questions:\n",
    "\n",
    "Investment Type: Are all the investment types correctly categorized? Are there any discrepancies or inconsistencies?\n",
    "Investment Amount: Are the amounts accurately recorded? Do they align with the expected values?\n",
    "Date: Are the dates of the investments correctly noted? Are there any missing or incorrect dates?\n",
    "Performance Metrics: Are the performance metrics (e.g., ROI, growth rate) accurately calculated and recorded? Are there any anomalies or outliers?\n",
    "Overall Data Quality: Is the data complete and accurate? Are there any missing fields or errors that need to be addressed?\n",
    "\n",
    "## START OF TABLE\n",
    "{markdown}\n",
    "## END OF TABLE\n",
    "\n",
    "{query}\n",
    "\n",
    "\"\"\"\n",
    "\n",
    "def query_table(query):\n",
    "    p = prompt.format(markdown = dataframes, query = query)\n",
    "    output = ask_LLM(p, model_info=model_info)\n",
    "    print(output)\n",
    "\n",
    "\n",
    "query_table('provide all investors details for customer service')"
   ]
  }
 ],
 "metadata": {
  "kernelspec": {
   "display_name": "Python 3",
   "language": "python",
   "name": "python3"
  },
  "language_info": {
   "codemirror_mode": {
    "name": "ipython",
    "version": 3
   },
   "file_extension": ".py",
   "mimetype": "text/x-python",
   "name": "python",
   "nbconvert_exporter": "python",
   "pygments_lexer": "ipython3",
   "version": "3.10.16"
  }
 },
 "nbformat": 4,
 "nbformat_minor": 2
}
