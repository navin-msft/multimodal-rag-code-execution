{
 "cells": [
  {
   "cell_type": "markdown",
   "metadata": {},
   "source": [
    "# Reading PDF Documents in Python\n",
    "\n",
    "In this notebook we will introduce the concepts of opening and reading PDF documents using the Python library PyMuPDF. This library can extract text, images and tables from digital PDFs. However, from print PDFs, such as scanned PDFs or PDFs which have vector graphics in them (most Powerpoint presentations), this library capabilities is limited.\n"
   ]
  },
  {
   "cell_type": "markdown",
   "metadata": {},
   "source": [
    "### Python Imports\n"
   ]
  },
  {
   "cell_type": "code",
   "execution_count": 1,
   "metadata": {},
   "outputs": [
    {
     "name": "stderr",
     "output_type": "stream",
     "text": [
      "[nltk_data] Downloading package punkt_tab to\n",
      "[nltk_data]     c:\\Users\\navinparmar\\source\\repos\\multimodal-rag-code-\n",
      "[nltk_data]     execution\\.conda\\lib\\site-\n",
      "[nltk_data]     packages\\llama_index\\core\\_static/nltk_cache...\n",
      "[nltk_data]   Package punkt_tab is already up-to-date!\n"
     ]
    }
   ],
   "source": [
    "%load_ext autoreload\n",
    "%autoreload 2\n",
    "\n",
    "\n",
    "import sys\n",
    "sys.path.append('..\\\\code')\n",
    "\n",
    "\n",
    "import os\n",
    "from dotenv import load_dotenv\n",
    "load_dotenv()\n",
    "\n",
    "from IPython.display import display, Markdown, HTML\n",
    "from PIL import Image\n",
    "from doc_utils import *\n",
    "\n",
    "\n",
    "def show_img(img_path, width = None):\n",
    "    if width is not None:\n",
    "        display(HTML(f'<img src=\"{img_path}\" width={width}>'))\n",
    "    else:\n",
    "        display(Image.open(img_path))\n"
   ]
  },
  {
   "cell_type": "markdown",
   "metadata": {},
   "source": [
    "### Make sure we have the OpenAI Models information\n",
    "\n",
    "We will need the GPT-4-Turbo and GPT-4-Vision models for this notebook.\n",
    "\n",
    "When running the below cell, the values should reflect the OpenAI reource you have created in "
   ]
  },
  {
   "cell_type": "code",
   "execution_count": null,
   "metadata": {},
   "outputs": [],
   "source": [
    "model_info = {\n",
    "        'AZURE_OPENAI_RESOURCE': os.environ.get('AZURE_OPENAI_RESOURCE'),\n",
    "        'AZURE_OPENAI_KEY': os.environ.get('AZURE_OPENAI_KEY'),\n",
    "        'AZURE_OPENAI_MODEL_VISION': os.environ.get('AZURE_OPENAI_MODEL_VISION'),\n",
    "        'AZURE_OPENAI_MODEL': os.environ.get('AZURE_OPENAI_MODEL'),\n",
    "}\n",
    "\n",
    "model_info\n"
   ]
  },
  {
   "cell_type": "markdown",
   "metadata": {},
   "source": [
    "## Read a Digital PDF Document\n",
    "\n",
    "Open a digital PDF Document with PyMuPDF, and save its pages as high-resolution PNG files. \n",
    "\n"
   ]
  },
  {
   "cell_type": "code",
   "execution_count": 3,
   "metadata": {},
   "outputs": [
    {
     "name": "stdout",
     "output_type": "stream",
     "text": [
      "PDF File wile_e_coyote.pdf has 12 pages.\n"
     ]
    }
   ],
   "source": [
    "import fitz  # PyMuPDF\n",
    "\n",
    "# Create a directory to store the outputs\n",
    "work_dir = \"sample_data/pdf_outputs\"\n",
    "os.makedirs(work_dir, exist_ok=True)\n",
    "\n",
    "# Load a sample PDF document\n",
    "\n",
    "def read_pdf(pdf_doc):\n",
    "    doc = fitz.open(pdf_doc)\n",
    "    print(f\"PDF File {os.path.basename(pdf_doc)} has {len(doc)} pages.\")\n",
    "    return doc\n",
    "\n",
    "#pdf_doc = \"sample_data/1_London_Brochure.pdf\"\n",
    "pdf_doc = \"sample_data/wile_e_coyote.pdf\"\n",
    "doc = read_pdf(pdf_doc)"
   ]
  },
  {
   "cell_type": "markdown",
   "metadata": {},
   "source": [
    "#### Extract Pages as PNG Files\n",
    "\n",
    "Extract the pages and store them as a PNG file. Please check them the output in the directory `work_dir`."
   ]
  },
  {
   "cell_type": "code",
   "execution_count": 4,
   "metadata": {},
   "outputs": [
    {
     "name": "stdout",
     "output_type": "stream",
     "text": [
      "Page 0 saved as sample_data/pdf_outputs/page_0.png\n",
      "Page 1 saved as sample_data/pdf_outputs/page_1.png\n",
      "Page 2 saved as sample_data/pdf_outputs/page_2.png\n",
      "Page 3 saved as sample_data/pdf_outputs/page_3.png\n",
      "Page 4 saved as sample_data/pdf_outputs/page_4.png\n",
      "Page 5 saved as sample_data/pdf_outputs/page_5.png\n",
      "Page 6 saved as sample_data/pdf_outputs/page_6.png\n",
      "Page 7 saved as sample_data/pdf_outputs/page_7.png\n",
      "Page 8 saved as sample_data/pdf_outputs/page_8.png\n",
      "Page 9 saved as sample_data/pdf_outputs/page_9.png\n",
      "Page 10 saved as sample_data/pdf_outputs/page_10.png\n",
      "Page 11 saved as sample_data/pdf_outputs/page_11.png\n"
     ]
    },
    {
     "data": {
      "text/plain": [
       "['sample_data/pdf_outputs/page_0.png',\n",
       " 'sample_data/pdf_outputs/page_1.png',\n",
       " 'sample_data/pdf_outputs/page_2.png',\n",
       " 'sample_data/pdf_outputs/page_3.png',\n",
       " 'sample_data/pdf_outputs/page_4.png',\n",
       " 'sample_data/pdf_outputs/page_5.png',\n",
       " 'sample_data/pdf_outputs/page_6.png',\n",
       " 'sample_data/pdf_outputs/page_7.png',\n",
       " 'sample_data/pdf_outputs/page_8.png',\n",
       " 'sample_data/pdf_outputs/page_9.png',\n",
       " 'sample_data/pdf_outputs/page_10.png',\n",
       " 'sample_data/pdf_outputs/page_11.png']"
      ]
     },
     "execution_count": 4,
     "metadata": {},
     "output_type": "execute_result"
    }
   ],
   "source": [
    "def nb_extract_pages_as_png_files(doc):\n",
    "    png_files = []\n",
    "    for page in doc:\n",
    "        page_num = page.number\n",
    "        img_path = f\"{work_dir}/page_{page_num}.png\"\n",
    "        page_pix = page.get_pixmap(dpi=300)\n",
    "        page_pix.save(img_path)\n",
    "        print(f\"Page {page_num} saved as {img_path}\")\n",
    "        png_files.append(img_path)\n",
    "    return png_files\n",
    "\n",
    "nb_extract_pages_as_png_files(doc)        \n"
   ]
  },
  {
   "cell_type": "markdown",
   "metadata": {},
   "source": [
    "##### Show Extracted Images"
   ]
  },
  {
   "cell_type": "code",
   "execution_count": 5,
   "metadata": {},
   "outputs": [
    {
     "data": {
      "text/html": [
       "<img src=\"sample_data/pdf_outputs/page_0.png\" width=300>"
      ],
      "text/plain": [
       "<IPython.core.display.HTML object>"
      ]
     },
     "metadata": {},
     "output_type": "display_data"
    },
    {
     "data": {
      "text/html": [
       "<img src=\"sample_data/pdf_outputs/page_1.png\" width=300>"
      ],
      "text/plain": [
       "<IPython.core.display.HTML object>"
      ]
     },
     "metadata": {},
     "output_type": "display_data"
    }
   ],
   "source": [
    "show_img('sample_data/pdf_outputs/page_0.png', width=300)\n",
    "show_img('sample_data/pdf_outputs/page_1.png', width=300)"
   ]
  },
  {
   "cell_type": "markdown",
   "metadata": {},
   "source": [
    "#### Extract Text\n",
    "\n",
    "Extract text from the pages and store them as text files. Please check them the output in the directory `work_dir`."
   ]
  },
  {
   "cell_type": "code",
   "execution_count": 6,
   "metadata": {},
   "outputs": [
    {
     "name": "stdout",
     "output_type": "stream",
     "text": [
      "Page 0 text saved to sample_data/pdf_outputs\\page_0.txt\n",
      "Page 1 text saved to sample_data/pdf_outputs\\page_1.txt\n",
      "Page 2 text saved to sample_data/pdf_outputs\\page_2.txt\n",
      "Page 3 text saved to sample_data/pdf_outputs\\page_3.txt\n",
      "Page 4 text saved to sample_data/pdf_outputs\\page_4.txt\n",
      "Page 5 text saved to sample_data/pdf_outputs\\page_5.txt\n",
      "Page 6 text saved to sample_data/pdf_outputs\\page_6.txt\n",
      "Page 7 text saved to sample_data/pdf_outputs\\page_7.txt\n",
      "Page 8 text saved to sample_data/pdf_outputs\\page_8.txt\n",
      "Page 9 text saved to sample_data/pdf_outputs\\page_9.txt\n",
      "Page 10 text saved to sample_data/pdf_outputs\\page_10.txt\n",
      "Page 11 text saved to sample_data/pdf_outputs\\page_11.txt\n",
      "\n",
      "\n",
      "Snippet from First Page Text:\n",
      "\n",
      "wile_e_coyote.md\n",
      "2024-01-06\n",
      "1 / 12\n",
      "Investment Proposal for Gru's Enterprises\n",
      "ACME Enterprises: Strategic Partnership for Ingenious Solutions\n",
      "Address:\n",
      "Canyon Bluff, The Desert, TX 78910\n",
      "Contact Information:\n",
      "Phone: 555-ACME (555-2263)\n",
      "Email: coyote@acmeenterprises.com\n",
      "Website: www.acmeenterprises.com\n",
      "Prepared by:\n",
      "Wile E. Coyote, CEO of ACME Enterprises\n",
      "Date of Preparation:\n",
      "January 6, 2024\n",
      "Confidential and Proprietary Information\n",
      "This document contains confidential and proprietary information of ACME Enterprises. It is intended solely for\n",
      "the use of the individual or entity to which it is addressed. Unauthorized use, dissemination, distribution, or\n",
      "copying of this document is strictly prohibited.\n",
      "\n"
     ]
    }
   ],
   "source": [
    "def nb_extract_text(doc):\n",
    "    txt_files = []\n",
    "\n",
    "    for page in doc:\n",
    "        page_num = page.number\n",
    "        text = page.get_text()\n",
    "\n",
    "        text_filename = os.path.join(work_dir, f\"page_{page_num}.txt\")\n",
    "        txt_files.append(text_filename)\n",
    "        with open(text_filename, 'w', encoding='utf-8') as file:\n",
    "            file.write(text)\n",
    "\n",
    "        print(f\"Page {page_num} text saved to {text_filename}\")\n",
    "\n",
    "    print(f\"\\n\\nSnippet from First Page Text:\\n\\n{read_asset_file(txt_files[0])[0]}\")\n",
    "\n",
    "    return txt_files\n",
    "\n",
    "txt_files = nb_extract_text(doc)"
   ]
  },
  {
   "cell_type": "markdown",
   "metadata": {},
   "source": [
    "#### Post-Process the Text\n",
    "\n",
    "Post-process the extracted text from the PDF using GPT-4. This will help to clean up the text and make it more readable, as well as enhance accuracy of search and RAG."
   ]
  },
  {
   "cell_type": "code",
   "execution_count": 7,
   "metadata": {},
   "outputs": [
    {
     "name": "stdout",
     "output_type": "stream",
     "text": [
      "\n",
      "Calling OpenAI APIs with 2 messages - Model: gpt-4t - Endpoint: https://admin-m78bg318-swedencentral.openai.azure.com/openai/\n",
      "\n",
      "# Investment Proposal for Gru's Enterprises\n",
      "\n",
      "**ACME Enterprises: Strategic Partnership for Ingenious Solutions**\n",
      "\n",
      "**Address:**  \n",
      "Canyon Bluff, The Desert, TX 78910\n",
      "\n",
      "**Contact Information:**  \n",
      "- **Phone:** 555-ACME (555-2263)\n",
      "- **Email:** coyote@acmeenterprises.com\n",
      "- **Website:** www.acmeenterprises.com\n",
      "\n",
      "**Prepared by:**  \n",
      "Wile E. Coyote, CEO of ACME Enterprises\n",
      "\n",
      "**Date of Preparation:**  \n",
      "January 6, 2024\n",
      "\n",
      "**Confidential and Proprietary Information**  \n",
      "This document contains confidential and proprietary information of ACME Enterprises. It is intended solely for the use of the individual or entity to which it is addressed. Unauthorized use, dissemination, distribution, or copying of this document is strictly prohibited.\n"
     ]
    }
   ],
   "source": [
    "process_extracted_text_prompt = \"\"\"\n",
    "The Extracted Text below is extracted with OCR, and might have tables in them. The number of tables is unknown. Please reformat all text and re-arrange it. Do not add text from your side, use the Extracted Text verbatim word-for-word. If you detect tables in the Extracted Text, please output them in Markdown format. The objective here to make the Extracted Text more readable and understandable. Do **NOT** any comments, details, explanations or justifications from your part.\n",
    "\n",
    "Extracted Text:\n",
    "## START OF EXTRACTED TEXT\n",
    "{text}\n",
    "## END OF EXTRACTED TEXT\n",
    "\n",
    "If a table is present in the text, a Markdown version of the table might be available below. Use it as your guidance to reconstruct the \"Extracted Text\":\n",
    "{markdown}\n",
    "\n",
    "\n",
    "\"\"\"\n",
    "\n",
    "def nb_post_process_text(text_file):\n",
    "    p = process_extracted_text_prompt.format(text=read_asset_file(text_file)[0], markdown = \"No Markdown Table Available\")\n",
    "\n",
    "    output = ask_LLM(p, model_info=model_info)\n",
    "    print(output)\n",
    "\n",
    "nb_post_process_text(txt_files[0])"
   ]
  },
  {
   "cell_type": "markdown",
   "metadata": {},
   "source": [
    "#### Extract Embedded Images\n",
    "\n",
    "In PDF files, one can find images embedded in pages. Below, we extract these images and save them. Please check them the output in the directory `work_dir`."
   ]
  },
  {
   "cell_type": "code",
   "execution_count": 8,
   "metadata": {},
   "outputs": [
    {
     "name": "stdout",
     "output_type": "stream",
     "text": [
      "Image found in page 0 saved as sample_data/pdf_outputs\\page_0_image_1.png\n",
      "Image found in page 4 saved as sample_data/pdf_outputs\\page_4_image_1.png\n",
      "Image found in page 5 saved as sample_data/pdf_outputs\\page_5_image_1.png\n",
      "Image found in page 6 saved as sample_data/pdf_outputs\\page_6_image_1.png\n",
      "Image found in page 8 saved as sample_data/pdf_outputs\\page_8_image_1.png\n",
      "Image found in page 9 saved as sample_data/pdf_outputs\\page_9_image_1.png\n",
      "Image found in page 10 saved as sample_data/pdf_outputs\\page_10_image_1.png\n"
     ]
    }
   ],
   "source": [
    "def nb_extract_images(doc):\n",
    "    for page in doc:\n",
    "        for img_index, img in enumerate(page.get_images()):\n",
    "            page_number = page.number\n",
    "            xref = img[0]\n",
    "            base_image = doc.extract_image(xref)\n",
    "            pix = fitz.Pixmap(doc, xref)\n",
    "            pix = fitz.Pixmap(fitz.csRGB, pix)                \n",
    "            image_filename = os.path.join(work_dir, f'page_{page_number}_image_{img_index+1}.png')\n",
    "            pix.save(image_filename, 'PNG')\n",
    "            print(f\"Image found in page {page_number} saved as {image_filename}\")\n",
    "\n",
    "nb_extract_images(doc)            "
   ]
  },
  {
   "cell_type": "code",
   "execution_count": 9,
   "metadata": {},
   "outputs": [
    {
     "data": {
      "text/html": [
       "<img src=\"sample_data/pdf_outputs/page_10_image_1.png\" width=500>"
      ],
      "text/plain": [
       "<IPython.core.display.HTML object>"
      ]
     },
     "metadata": {},
     "output_type": "display_data"
    }
   ],
   "source": [
    "show_img('sample_data/pdf_outputs/page_10_image_1.png', width=500)"
   ]
  },
  {
   "cell_type": "markdown",
   "metadata": {},
   "source": [
    "#### Extract Tables\n",
    "\n",
    "In PDF files, one can find embedded tables. Below, we extract those tables using PyMuPDF. "
   ]
  },
  {
   "cell_type": "code",
   "execution_count": 10,
   "metadata": {},
   "outputs": [],
   "source": [
    "def nb_extract_tables(doc):\n",
    "    for page in doc:\n",
    "        tables = page.find_tables()\n",
    "        page_number = page.number\n",
    "\n",
    "        for table in tables:\n",
    "            df = table.to_pandas()\n",
    "            print(f\"{len(df)} table(s) on {page_number}\")\n",
    "            display(df.head())\n",
    "\n",
    "nb_extract_tables(doc)        "
   ]
  },
  {
   "cell_type": "markdown",
   "metadata": {},
   "source": [
    "## Read a Non-Digital PDF Document\n",
    "\n",
    "Open a non-digital PDF Document with PyMuPDF, like a scanned print PDF or a Powerpoint presentation with lots of vector graphics, and try to extract text, images and tables.\n",
    "\n"
   ]
  },
  {
   "cell_type": "code",
   "execution_count": 11,
   "metadata": {},
   "outputs": [
    {
     "name": "stdout",
     "output_type": "stream",
     "text": [
      "PDF File 1_slide_1.pdf has 1 pages.\n"
     ]
    }
   ],
   "source": [
    "import fitz  # PyMuPDF\n",
    "\n",
    "# Create a directory to store the outputs\n",
    "work_dir = \"sample_data/pdf_outputs_print\"\n",
    "os.makedirs(work_dir, exist_ok=True)\n",
    "\n",
    "# Load a sample PDF document\n",
    "\n",
    "def read_pdf(pdf_doc):\n",
    "    doc = fitz.open(pdf_doc)\n",
    "    print(f\"PDF File {os.path.basename(pdf_doc)} has {len(doc)} pages.\")\n",
    "    return doc\n",
    "\n",
    "pdf_doc = \"sample_data/1_slide_1.pdf\"\n",
    "doc = read_pdf(pdf_doc)"
   ]
  },
  {
   "cell_type": "code",
   "execution_count": 12,
   "metadata": {},
   "outputs": [
    {
     "name": "stdout",
     "output_type": "stream",
     "text": [
      "Page 0 text saved to sample_data/pdf_outputs_print\\page_0.txt\n",
      "\n",
      "\n",
      "Snippet from First Page Text:\n",
      "\n",
      "Infrastructure is forecasted to be one of the fastest-growing \n",
      "segments of private markets\n",
      "4\n",
      "729\n",
      "1,190\n",
      "2,541\n",
      "2017\n",
      "2022\n",
      "2027\n",
      "Energy\n",
      "Telecom \n",
      "& digital\n",
      "Transport\n",
      "Water\n",
      "23\n",
      "7\n",
      "40\n",
      "5\n",
      "Investment\n",
      "Needs\n",
      "2022-2040 cumulative infrastructure investment & needs, $T\n",
      "16% \n",
      "CAGR\n",
      "Note: For footnoted information, refer to slide 11.\n",
      "10% \n",
      "CAGR\n",
      "Industry infrastructure AUM1\n",
      "$75T global infrastructure funding need2\n",
      "Clients allocating more to infra in new market regime3\n",
      "Infrastructure fares well in inflationary environments4\n",
      "43%\n",
      "37%\n",
      "28%\n",
      "22%\n",
      "22%\n",
      "18%\n",
      "39%\n",
      "45%\n",
      "57%\n",
      "50%\n",
      "43%\n",
      "52%\n",
      "18%\n",
      "18%\n",
      "15%\n",
      "28%\n",
      "35%\n",
      "30%\n",
      "Private Debt\n",
      "Infrastructure\n",
      "Private Equity\n",
      "Hedge Funds\n",
      "Venture Capital\n",
      "Real Estate\n",
      "More capital\n",
      "Same amount of capital\n",
      "Less capital\n",
      "Global Direct \n",
      "Infrastructure\n",
      "Global Direct \n",
      "Real Estate\n",
      "Global Equities\n",
      "Global Fixed \n",
      "Income\n",
      "17%\n",
      "16%\n",
      "15%\n",
      "0%\n",
      "Global Direct \n",
      "Infrastructure\n",
      "Global Direct \n",
      "Real Estate\n",
      "Global Equities\n",
      "Global Fixed \n",
      "Income\n",
      "23%\n",
      "8%\n",
      "2%\n",
      "8%\n",
      "High growth / high inflation\n",
      "Low growth / high inflation\n",
      "20-year total returns (ann’d)\n",
      "\n"
     ]
    },
    {
     "data": {
      "text/plain": [
       "['sample_data/pdf_outputs_print\\\\page_0.txt']"
      ]
     },
     "execution_count": 12,
     "metadata": {},
     "output_type": "execute_result"
    }
   ],
   "source": [
    "nb_extract_text(doc)"
   ]
  },
  {
   "cell_type": "code",
   "execution_count": 13,
   "metadata": {},
   "outputs": [
    {
     "name": "stdout",
     "output_type": "stream",
     "text": [
      "\n",
      "Calling OpenAI APIs with 2 messages - Model: gpt-4t - Endpoint: https://admin-m78bg318-swedencentral.openai.azure.com/openai/\n",
      "\n",
      "## Infrastructure Market Forecast\n",
      "\n",
      "Infrastructure is forecasted to be one of the fastest-growing segments of private markets.\n",
      "\n",
      "### Cumulative Infrastructure Investment & Needs (2022-2040) in $T\n",
      "\n",
      "| Year | Energy | Telecom & Digital | Transport | Water |\n",
      "|------|--------|-------------------|-----------|-------|\n",
      "| 2017 | 4      | 729               | 1,190     | 2,541 |\n",
      "| 2022 | 23     | 7                 | 40        | 5     |\n",
      "\n",
      "### Compound Annual Growth Rate (CAGR)\n",
      "\n",
      "- **16% CAGR**\n",
      "- **10% CAGR**\n",
      "\n",
      "### Industry Infrastructure Assets Under Management (AUM)\n",
      "\n",
      "- $75T global infrastructure funding need\n",
      "- Clients allocating more to infrastructure in new market regime\n",
      "- Infrastructure fares well in inflationary environments\n",
      "\n",
      "### Capital Allocation Trends\n",
      "\n",
      "| Asset Class     | More Capital | Same Amount of Capital | Less Capital |\n",
      "|-----------------|--------------|------------------------|--------------|\n",
      "| Private Debt    | 43%          | 37%                    | 18%          |\n",
      "| Infrastructure  | 39%          | 45%                    | 15%          |\n",
      "| Private Equity  | 57%          | 50%                    | 28%          |\n",
      "| Hedge Funds     | 43%          | 52%                    | 18%          |\n",
      "| Venture Capital | 18%          | 22%                    | 35%          |\n",
      "| Real Estate     | 30%          | 22%                    | 30%          |\n",
      "\n",
      "### 20-Year Total Returns (Annualized) in Different Economic Scenarios\n",
      "\n",
      "| Asset Class             | High Growth / High Inflation | Low Growth / High Inflation |\n",
      "|-------------------------|------------------------------|-----------------------------|\n",
      "| Global Direct Infrastructure | 23%                         | 8%                          |\n",
      "| Global Direct Real Estate    | 8%                          | 2%                          |\n",
      "| Global Equities              | 0%                          | 8%                          |\n",
      "| Global Fixed Income          | 17%                         | 16%                         |\n",
      "| Global Fixed Income          | 15%                         | 0%                          |\n",
      "\n",
      "**Note:** For footnoted information, refer to slide 11.\n"
     ]
    }
   ],
   "source": [
    "nb_post_process_text('sample_data/pdf_outputs_print/page_0.txt')"
   ]
  },
  {
   "cell_type": "code",
   "execution_count": 14,
   "metadata": {},
   "outputs": [
    {
     "name": "stdout",
     "output_type": "stream",
     "text": [
      "Image found in page 0 saved as sample_data/pdf_outputs_print\\page_0_image_1.png\n"
     ]
    },
    {
     "data": {
      "image/jpeg": "[encoded data removed]",
      "image/png": "[encoded data removed]",
      "text/plain": [
       "<PIL.PngImagePlugin.PngImageFile image mode=RGB size=388x102>"
      ]
     },
     "metadata": {},
     "output_type": "display_data"
    }
   ],
   "source": [
    "nb_extract_images(doc)\n",
    "show_img('sample_data/pdf_outputs_print\\page_0_image_1.png')"
   ]
  },
  {
   "cell_type": "code",
   "execution_count": 15,
   "metadata": {},
   "outputs": [
    {
     "name": "stdout",
     "output_type": "stream",
     "text": [
      "0 table(s) on 0\n"
     ]
    },
    {
     "data": {
      "application/vnd.microsoft.datawrangler.viewer.v0+json": {
       "columns": [
        {
         "name": "index",
         "rawType": "int64",
         "type": "integer"
        },
        {
         "name": "43%",
         "rawType": "float64",
         "type": "float"
        },
        {
         "name": "39%",
         "rawType": "float64",
         "type": "float"
        },
        {
         "name": "18%",
         "rawType": "float64",
         "type": "float"
        }
       ],
       "conversionMethod": "pd.DataFrame",
       "ref": "054b8099-c912-485c-8b58-44d049a021a1",
       "rows": [],
       "shape": {
        "columns": 3,
        "rows": 0
       }
      },
      "text/html": [
       "<div>\n",
       "<style scoped>\n",
       "    .dataframe tbody tr th:only-of-type {\n",
       "        vertical-align: middle;\n",
       "    }\n",
       "\n",
       "    .dataframe tbody tr th {\n",
       "        vertical-align: top;\n",
       "    }\n",
       "\n",
       "    .dataframe thead th {\n",
       "        text-align: right;\n",
       "    }\n",
       "</style>\n",
       "<table border=\"1\" class=\"dataframe\">\n",
       "  <thead>\n",
       "    <tr style=\"text-align: right;\">\n",
       "      <th></th>\n",
       "      <th>43%</th>\n",
       "      <th>39%</th>\n",
       "      <th>18%</th>\n",
       "    </tr>\n",
       "  </thead>\n",
       "  <tbody>\n",
       "  </tbody>\n",
       "</table>\n",
       "</div>"
      ],
      "text/plain": [
       "Empty DataFrame\n",
       "Columns: [43%, 39%, 18%]\n",
       "Index: []"
      ]
     },
     "metadata": {},
     "output_type": "display_data"
    },
    {
     "name": "stdout",
     "output_type": "stream",
     "text": [
      "0 table(s) on 0\n"
     ]
    },
    {
     "data": {
      "application/vnd.microsoft.datawrangler.viewer.v0+json": {
       "columns": [
        {
         "name": "index",
         "rawType": "int64",
         "type": "integer"
        },
        {
         "name": "37%",
         "rawType": "float64",
         "type": "float"
        },
        {
         "name": "45%",
         "rawType": "float64",
         "type": "float"
        },
        {
         "name": "18%",
         "rawType": "float64",
         "type": "float"
        }
       ],
       "conversionMethod": "pd.DataFrame",
       "ref": "e836f584-2701-4b19-b1d0-d846a8b26969",
       "rows": [],
       "shape": {
        "columns": 3,
        "rows": 0
       }
      },
      "text/html": [
       "<div>\n",
       "<style scoped>\n",
       "    .dataframe tbody tr th:only-of-type {\n",
       "        vertical-align: middle;\n",
       "    }\n",
       "\n",
       "    .dataframe tbody tr th {\n",
       "        vertical-align: top;\n",
       "    }\n",
       "\n",
       "    .dataframe thead th {\n",
       "        text-align: right;\n",
       "    }\n",
       "</style>\n",
       "<table border=\"1\" class=\"dataframe\">\n",
       "  <thead>\n",
       "    <tr style=\"text-align: right;\">\n",
       "      <th></th>\n",
       "      <th>37%</th>\n",
       "      <th>45%</th>\n",
       "      <th>18%</th>\n",
       "    </tr>\n",
       "  </thead>\n",
       "  <tbody>\n",
       "  </tbody>\n",
       "</table>\n",
       "</div>"
      ],
      "text/plain": [
       "Empty DataFrame\n",
       "Columns: [37%, 45%, 18%]\n",
       "Index: []"
      ]
     },
     "metadata": {},
     "output_type": "display_data"
    },
    {
     "name": "stdout",
     "output_type": "stream",
     "text": [
      "0 table(s) on 0\n"
     ]
    },
    {
     "data": {
      "application/vnd.microsoft.datawrangler.viewer.v0+json": {
       "columns": [
        {
         "name": "index",
         "rawType": "int64",
         "type": "integer"
        },
        {
         "name": "28%",
         "rawType": "float64",
         "type": "float"
        },
        {
         "name": "57%",
         "rawType": "float64",
         "type": "float"
        },
        {
         "name": "15%",
         "rawType": "float64",
         "type": "float"
        }
       ],
       "conversionMethod": "pd.DataFrame",
       "ref": "ee096d07-ce96-470e-b0b7-f95dde905d40",
       "rows": [],
       "shape": {
        "columns": 3,
        "rows": 0
       }
      },
      "text/html": [
       "<div>\n",
       "<style scoped>\n",
       "    .dataframe tbody tr th:only-of-type {\n",
       "        vertical-align: middle;\n",
       "    }\n",
       "\n",
       "    .dataframe tbody tr th {\n",
       "        vertical-align: top;\n",
       "    }\n",
       "\n",
       "    .dataframe thead th {\n",
       "        text-align: right;\n",
       "    }\n",
       "</style>\n",
       "<table border=\"1\" class=\"dataframe\">\n",
       "  <thead>\n",
       "    <tr style=\"text-align: right;\">\n",
       "      <th></th>\n",
       "      <th>28%</th>\n",
       "      <th>57%</th>\n",
       "      <th>15%</th>\n",
       "    </tr>\n",
       "  </thead>\n",
       "  <tbody>\n",
       "  </tbody>\n",
       "</table>\n",
       "</div>"
      ],
      "text/plain": [
       "Empty DataFrame\n",
       "Columns: [28%, 57%, 15%]\n",
       "Index: []"
      ]
     },
     "metadata": {},
     "output_type": "display_data"
    },
    {
     "name": "stdout",
     "output_type": "stream",
     "text": [
      "0 table(s) on 0\n"
     ]
    },
    {
     "data": {
      "application/vnd.microsoft.datawrangler.viewer.v0+json": {
       "columns": [
        {
         "name": "index",
         "rawType": "int64",
         "type": "integer"
        },
        {
         "name": "22%",
         "rawType": "float64",
         "type": "float"
        },
        {
         "name": "50%",
         "rawType": "float64",
         "type": "float"
        },
        {
         "name": "28%",
         "rawType": "float64",
         "type": "float"
        }
       ],
       "conversionMethod": "pd.DataFrame",
       "ref": "2c768714-b005-4aad-9c18-01683d3c300e",
       "rows": [],
       "shape": {
        "columns": 3,
        "rows": 0
       }
      },
      "text/html": [
       "<div>\n",
       "<style scoped>\n",
       "    .dataframe tbody tr th:only-of-type {\n",
       "        vertical-align: middle;\n",
       "    }\n",
       "\n",
       "    .dataframe tbody tr th {\n",
       "        vertical-align: top;\n",
       "    }\n",
       "\n",
       "    .dataframe thead th {\n",
       "        text-align: right;\n",
       "    }\n",
       "</style>\n",
       "<table border=\"1\" class=\"dataframe\">\n",
       "  <thead>\n",
       "    <tr style=\"text-align: right;\">\n",
       "      <th></th>\n",
       "      <th>22%</th>\n",
       "      <th>50%</th>\n",
       "      <th>28%</th>\n",
       "    </tr>\n",
       "  </thead>\n",
       "  <tbody>\n",
       "  </tbody>\n",
       "</table>\n",
       "</div>"
      ],
      "text/plain": [
       "Empty DataFrame\n",
       "Columns: [22%, 50%, 28%]\n",
       "Index: []"
      ]
     },
     "metadata": {},
     "output_type": "display_data"
    },
    {
     "name": "stdout",
     "output_type": "stream",
     "text": [
      "0 table(s) on 0\n"
     ]
    },
    {
     "data": {
      "application/vnd.microsoft.datawrangler.viewer.v0+json": {
       "columns": [
        {
         "name": "index",
         "rawType": "int64",
         "type": "integer"
        },
        {
         "name": "22%",
         "rawType": "float64",
         "type": "float"
        },
        {
         "name": "43%",
         "rawType": "float64",
         "type": "float"
        },
        {
         "name": "35%",
         "rawType": "float64",
         "type": "float"
        }
       ],
       "conversionMethod": "pd.DataFrame",
       "ref": "40c8e6ea-2e77-4543-87ec-28bc96bd5598",
       "rows": [],
       "shape": {
        "columns": 3,
        "rows": 0
       }
      },
      "text/html": [
       "<div>\n",
       "<style scoped>\n",
       "    .dataframe tbody tr th:only-of-type {\n",
       "        vertical-align: middle;\n",
       "    }\n",
       "\n",
       "    .dataframe tbody tr th {\n",
       "        vertical-align: top;\n",
       "    }\n",
       "\n",
       "    .dataframe thead th {\n",
       "        text-align: right;\n",
       "    }\n",
       "</style>\n",
       "<table border=\"1\" class=\"dataframe\">\n",
       "  <thead>\n",
       "    <tr style=\"text-align: right;\">\n",
       "      <th></th>\n",
       "      <th>22%</th>\n",
       "      <th>43%</th>\n",
       "      <th>35%</th>\n",
       "    </tr>\n",
       "  </thead>\n",
       "  <tbody>\n",
       "  </tbody>\n",
       "</table>\n",
       "</div>"
      ],
      "text/plain": [
       "Empty DataFrame\n",
       "Columns: [22%, 43%, 35%]\n",
       "Index: []"
      ]
     },
     "metadata": {},
     "output_type": "display_data"
    },
    {
     "name": "stdout",
     "output_type": "stream",
     "text": [
      "0 table(s) on 0\n"
     ]
    },
    {
     "data": {
      "application/vnd.microsoft.datawrangler.viewer.v0+json": {
       "columns": [
        {
         "name": "index",
         "rawType": "int64",
         "type": "integer"
        },
        {
         "name": "18%",
         "rawType": "float64",
         "type": "float"
        },
        {
         "name": "52%",
         "rawType": "float64",
         "type": "float"
        },
        {
         "name": "30%",
         "rawType": "float64",
         "type": "float"
        }
       ],
       "conversionMethod": "pd.DataFrame",
       "ref": "70ffdf03-bed5-48fe-8ecc-52e27cb1a40d",
       "rows": [],
       "shape": {
        "columns": 3,
        "rows": 0
       }
      },
      "text/html": [
       "<div>\n",
       "<style scoped>\n",
       "    .dataframe tbody tr th:only-of-type {\n",
       "        vertical-align: middle;\n",
       "    }\n",
       "\n",
       "    .dataframe tbody tr th {\n",
       "        vertical-align: top;\n",
       "    }\n",
       "\n",
       "    .dataframe thead th {\n",
       "        text-align: right;\n",
       "    }\n",
       "</style>\n",
       "<table border=\"1\" class=\"dataframe\">\n",
       "  <thead>\n",
       "    <tr style=\"text-align: right;\">\n",
       "      <th></th>\n",
       "      <th>18%</th>\n",
       "      <th>52%</th>\n",
       "      <th>30%</th>\n",
       "    </tr>\n",
       "  </thead>\n",
       "  <tbody>\n",
       "  </tbody>\n",
       "</table>\n",
       "</div>"
      ],
      "text/plain": [
       "Empty DataFrame\n",
       "Columns: [18%, 52%, 30%]\n",
       "Index: []"
      ]
     },
     "metadata": {},
     "output_type": "display_data"
    }
   ],
   "source": [
    "nb_extract_tables(doc)"
   ]
  },
  {
   "cell_type": "markdown",
   "metadata": {},
   "source": [
    "### Exercise\n",
    "\n",
    "Try reading the file `1_slide_2.pdf` and extract the text, images and tables from it."
   ]
  }
 ],
 "metadata": {
  "kernelspec": {
   "display_name": "Python 3",
   "language": "python",
   "name": "python3"
  },
  "language_info": {
   "codemirror_mode": {
    "name": "ipython",
    "version": 3
   },
   "file_extension": ".py",
   "mimetype": "text/x-python",
   "name": "python",
   "nbconvert_exporter": "python",
   "pygments_lexer": "ipython3",
   "version": "3.10.16"
  }
 },
 "nbformat": 4,
 "nbformat_minor": 2
}
